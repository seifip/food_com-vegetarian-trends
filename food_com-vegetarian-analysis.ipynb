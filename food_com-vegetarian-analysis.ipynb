{
  "cells": [
    {
      "cell_type": "markdown",
      "source": [
        "# Vegetarian trends at food.com\n",
        "The interest in vegetarian and vegan food has grown steadily over the past two decades.\n",
        "\n",
        "The number of searches for 'veganism' in the UK has increased 900% from 2009 to 2019.[1]\n",
        "\n",
        "And although in 2015, just 3.4% of all Americans said they were vegetarian, fully a quarter of 25- to 34-year-olds identified as such.[2]\n",
        "\n",
        "Below, I will explore whether this vegetarian trend extends to the users of [food.com](https://www.food.com/), one of the leading online recipe websites.\n",
        "\n",
        "[1] [Veganism: Why are vegan diets on the rise?](https://www.bbc.com/news/business-44488051)\n",
        "\n[2] [The year of the vegan, The Economist](https://worldin2019.economist.com/theyearofthevegan)"
      ],
      "metadata": {}
    },
    {
      "cell_type": "markdown",
      "source": [
        "## Questions\n",
        "1. Is there a positive trend in the number of vegetarian recipes posted on food.com between 2008 and 2017?\n",
        "2. Is there a positive trend in the number of interactions with vegetarian recipes on Food.com between 2008 and 2017?\n",
        "2. Is there a difference in the ratings vegetarian recipes received compared to non-vegetarian recipes between 2008 and 2017?"
      ],
      "metadata": {}
    },
    {
      "cell_type": "markdown",
      "source": [
        "## Dataset\n",
        "I will be using the [food.com dataset](https://www.kaggle.com/shuyangli94/food-com-recipes-and-user-interactions) by Bodhisattwa Prasad Majumder, Shuyang Li, Jianmo Ni, and Julian McAuley.\n",
        "\n",
        "The dataset consists of 180K+ recipes and 700K+ recipe reviews covering 18 years of user interactions and uploads on Food.com (formerly GeniusKitchen).\n",
        "\nFor the purpose of this exploration study, I will look at data between 2008 and 2017."
      ],
      "metadata": {}
    },
    {
      "cell_type": "markdown",
      "source": [
        "## Imports"
      ],
      "metadata": {}
    },
    {
      "cell_type": "code",
      "source": [
        "import numpy as np\n",
        "import pandas as pd\n",
        "import matplotlib.pyplot as plt\n",
        "from matplotlib_venn import venn2\n",
        "import seaborn as sns\n",
        "from ast import literal_eval\n",
        "\n%matplotlib inline"
      ],
      "outputs": [],
      "execution_count": 39,
      "metadata": {
        "_uuid": "8f2839f25d086af736a60e9eeb907d3b93b6e0e5",
        "_cell_guid": "b1076dfc-b9ad-4769-8c92-a6c4dae69d19",
        "trusted": true
      }
    },
    {
      "cell_type": "markdown",
      "source": [
        "## Palettes"
      ],
      "metadata": {}
    },
    {
      "cell_type": "code",
      "source": [
        "veg_meat = [\"#454d66\", \"#b7e778\", \"#1fab89\"]\n",
        "sns.set_palette(veg_meat)"
      ],
      "outputs": [],
      "execution_count": 40,
      "metadata": {
        "trusted": true
      }
    },
    {
      "cell_type": "markdown",
      "source": [
        "## Data import & summary"
      ],
      "metadata": {}
    },
    {
      "cell_type": "code",
      "source": [
        "recipes = pd.read_csv('/input/RAW_recipes.csv')\n",
        "interactions = pd.read_csv('/input/RAW_interactions.csv')"
      ],
      "outputs": [],
      "execution_count": 41,
      "metadata": {
        "trusted": true
      }
    },
    {
      "cell_type": "code",
      "source": [
        "recipes.head()"
      ],
      "outputs": [
        {
          "output_type": "execute_result",
          "execution_count": 42,
          "data": {
            "text/plain": [
              "                                         name      id  minutes  \\\n",
              "0  arriba   baked winter squash mexican style  137739       55   \n",
              "1            a bit different  breakfast pizza   31490       30   \n",
              "2                   all in the kitchen  chili  112140      130   \n",
              "3                          alouette  potatoes   59389       45   \n",
              "4          amish  tomato ketchup  for canning   44061      190   \n",
              "\n",
              "   contributor_id   submitted  \\\n",
              "0           47892  2005-09-16   \n",
              "1           26278  2002-06-17   \n",
              "2          196586  2005-02-25   \n",
              "3           68585  2003-04-14   \n",
              "4           41706  2002-10-25   \n",
              "\n",
              "                                                tags  \\\n",
              "0  ['60-minutes-or-less', 'time-to-make', 'course...   \n",
              "1  ['30-minutes-or-less', 'time-to-make', 'course...   \n",
              "2  ['time-to-make', 'course', 'preparation', 'mai...   \n",
              "3  ['60-minutes-or-less', 'time-to-make', 'course...   \n",
              "4  ['weeknight', 'time-to-make', 'course', 'main-...   \n",
              "\n",
              "                                    nutrition  n_steps  \\\n",
              "0       [51.5, 0.0, 13.0, 0.0, 2.0, 0.0, 4.0]       11   \n",
              "1   [173.4, 18.0, 0.0, 17.0, 22.0, 35.0, 1.0]        9   \n",
              "2  [269.8, 22.0, 32.0, 48.0, 39.0, 27.0, 5.0]        6   \n",
              "3   [368.1, 17.0, 10.0, 2.0, 14.0, 8.0, 20.0]       11   \n",
              "4   [352.9, 1.0, 337.0, 23.0, 3.0, 0.0, 28.0]        5   \n",
              "\n",
              "                                               steps  \\\n",
              "0  ['make a choice and proceed with recipe', 'dep...   \n",
              "1  ['preheat oven to 425 degrees f', 'press dough...   \n",
              "2  ['brown ground beef in large pot', 'add choppe...   \n",
              "3  ['place potatoes in a large pot of lightly sal...   \n",
              "4  ['mix all ingredients& boil for 2 1 / 2 hours ...   \n",
              "\n",
              "                                         description  \\\n",
              "0  autumn is my favorite time of year to cook! th...   \n",
              "1  this recipe calls for the crust to be prebaked...   \n",
              "2  this modified version of 'mom's' chili was a h...   \n",
              "3  this is a super easy, great tasting, make ahea...   \n",
              "4  my dh's amish mother raised him on this recipe...   \n",
              "\n",
              "                                         ingredients  n_ingredients  \n",
              "0  ['winter squash', 'mexican seasoning', 'mixed ...              7  \n",
              "1  ['prepared pizza crust', 'sausage patty', 'egg...              6  \n",
              "2  ['ground beef', 'yellow onions', 'diced tomato...             13  \n",
              "3  ['spreadable cheese with garlic and herbs', 'n...             11  \n",
              "4  ['tomato juice', 'apple cider vinegar', 'sugar...              8  "
            ],
            "text/html": [
              "<div>\n",
              "<style scoped>\n",
              "    .dataframe tbody tr th:only-of-type {\n",
              "        vertical-align: middle;\n",
              "    }\n",
              "\n",
              "    .dataframe tbody tr th {\n",
              "        vertical-align: top;\n",
              "    }\n",
              "\n",
              "    .dataframe thead th {\n",
              "        text-align: right;\n",
              "    }\n",
              "</style>\n",
              "<table border=\"1\" class=\"dataframe\">\n",
              "  <thead>\n",
              "    <tr style=\"text-align: right;\">\n",
              "      <th></th>\n",
              "      <th>name</th>\n",
              "      <th>id</th>\n",
              "      <th>minutes</th>\n",
              "      <th>contributor_id</th>\n",
              "      <th>submitted</th>\n",
              "      <th>tags</th>\n",
              "      <th>nutrition</th>\n",
              "      <th>n_steps</th>\n",
              "      <th>steps</th>\n",
              "      <th>description</th>\n",
              "      <th>ingredients</th>\n",
              "      <th>n_ingredients</th>\n",
              "    </tr>\n",
              "  </thead>\n",
              "  <tbody>\n",
              "    <tr>\n",
              "      <th>0</th>\n",
              "      <td>arriba   baked winter squash mexican style</td>\n",
              "      <td>137739</td>\n",
              "      <td>55</td>\n",
              "      <td>47892</td>\n",
              "      <td>2005-09-16</td>\n",
              "      <td>['60-minutes-or-less', 'time-to-make', 'course...</td>\n",
              "      <td>[51.5, 0.0, 13.0, 0.0, 2.0, 0.0, 4.0]</td>\n",
              "      <td>11</td>\n",
              "      <td>['make a choice and proceed with recipe', 'dep...</td>\n",
              "      <td>autumn is my favorite time of year to cook! th...</td>\n",
              "      <td>['winter squash', 'mexican seasoning', 'mixed ...</td>\n",
              "      <td>7</td>\n",
              "    </tr>\n",
              "    <tr>\n",
              "      <th>1</th>\n",
              "      <td>a bit different  breakfast pizza</td>\n",
              "      <td>31490</td>\n",
              "      <td>30</td>\n",
              "      <td>26278</td>\n",
              "      <td>2002-06-17</td>\n",
              "      <td>['30-minutes-or-less', 'time-to-make', 'course...</td>\n",
              "      <td>[173.4, 18.0, 0.0, 17.0, 22.0, 35.0, 1.0]</td>\n",
              "      <td>9</td>\n",
              "      <td>['preheat oven to 425 degrees f', 'press dough...</td>\n",
              "      <td>this recipe calls for the crust to be prebaked...</td>\n",
              "      <td>['prepared pizza crust', 'sausage patty', 'egg...</td>\n",
              "      <td>6</td>\n",
              "    </tr>\n",
              "    <tr>\n",
              "      <th>2</th>\n",
              "      <td>all in the kitchen  chili</td>\n",
              "      <td>112140</td>\n",
              "      <td>130</td>\n",
              "      <td>196586</td>\n",
              "      <td>2005-02-25</td>\n",
              "      <td>['time-to-make', 'course', 'preparation', 'mai...</td>\n",
              "      <td>[269.8, 22.0, 32.0, 48.0, 39.0, 27.0, 5.0]</td>\n",
              "      <td>6</td>\n",
              "      <td>['brown ground beef in large pot', 'add choppe...</td>\n",
              "      <td>this modified version of 'mom's' chili was a h...</td>\n",
              "      <td>['ground beef', 'yellow onions', 'diced tomato...</td>\n",
              "      <td>13</td>\n",
              "    </tr>\n",
              "    <tr>\n",
              "      <th>3</th>\n",
              "      <td>alouette  potatoes</td>\n",
              "      <td>59389</td>\n",
              "      <td>45</td>\n",
              "      <td>68585</td>\n",
              "      <td>2003-04-14</td>\n",
              "      <td>['60-minutes-or-less', 'time-to-make', 'course...</td>\n",
              "      <td>[368.1, 17.0, 10.0, 2.0, 14.0, 8.0, 20.0]</td>\n",
              "      <td>11</td>\n",
              "      <td>['place potatoes in a large pot of lightly sal...</td>\n",
              "      <td>this is a super easy, great tasting, make ahea...</td>\n",
              "      <td>['spreadable cheese with garlic and herbs', 'n...</td>\n",
              "      <td>11</td>\n",
              "    </tr>\n",
              "    <tr>\n",
              "      <th>4</th>\n",
              "      <td>amish  tomato ketchup  for canning</td>\n",
              "      <td>44061</td>\n",
              "      <td>190</td>\n",
              "      <td>41706</td>\n",
              "      <td>2002-10-25</td>\n",
              "      <td>['weeknight', 'time-to-make', 'course', 'main-...</td>\n",
              "      <td>[352.9, 1.0, 337.0, 23.0, 3.0, 0.0, 28.0]</td>\n",
              "      <td>5</td>\n",
              "      <td>['mix all ingredients&amp; boil for 2 1 / 2 hours ...</td>\n",
              "      <td>my dh's amish mother raised him on this recipe...</td>\n",
              "      <td>['tomato juice', 'apple cider vinegar', 'sugar...</td>\n",
              "      <td>8</td>\n",
              "    </tr>\n",
              "  </tbody>\n",
              "</table>\n",
              "</div>"
            ]
          },
          "metadata": {}
        }
      ],
      "execution_count": 42,
      "metadata": {
        "trusted": true
      }
    },
    {
      "cell_type": "code",
      "source": [
        "print(recipes.info())\n",
        "recipes.describe()"
      ],
      "outputs": [
        {
          "output_type": "stream",
          "name": "stdout",
          "text": [
            "<class 'pandas.core.frame.DataFrame'>\n",
            "RangeIndex: 231637 entries, 0 to 231636\n",
            "Data columns (total 12 columns):\n",
            " #   Column          Non-Null Count   Dtype \n",
            "---  ------          --------------   ----- \n",
            " 0   name            231636 non-null  object\n",
            " 1   id              231637 non-null  int64 \n",
            " 2   minutes         231637 non-null  int64 \n",
            " 3   contributor_id  231637 non-null  int64 \n",
            " 4   submitted       231637 non-null  object\n",
            " 5   tags            231637 non-null  object\n",
            " 6   nutrition       231637 non-null  object\n",
            " 7   n_steps         231637 non-null  int64 \n",
            " 8   steps           231637 non-null  object\n",
            " 9   description     226658 non-null  object\n",
            " 10  ingredients     231637 non-null  object\n",
            " 11  n_ingredients   231637 non-null  int64 \n",
            "dtypes: int64(5), object(7)\n",
            "memory usage: 21.2+ MB\n",
            "None\n"
          ]
        },
        {
          "output_type": "execute_result",
          "execution_count": 43,
          "data": {
            "text/plain": [
              "                  id       minutes  contributor_id        n_steps  \\\n",
              "count  231637.000000  2.316370e+05    2.316370e+05  231637.000000   \n",
              "mean   222014.708984  9.398546e+03    5.534885e+06       9.765499   \n",
              "std    141206.635626  4.461963e+06    9.979141e+07       5.995128   \n",
              "min        38.000000  0.000000e+00    2.700000e+01       0.000000   \n",
              "25%     99944.000000  2.000000e+01    5.690500e+04       6.000000   \n",
              "50%    207249.000000  4.000000e+01    1.736140e+05       9.000000   \n",
              "75%    333816.000000  6.500000e+01    3.982750e+05      12.000000   \n",
              "max    537716.000000  2.147484e+09    2.002290e+09     145.000000   \n",
              "\n",
              "       n_ingredients  \n",
              "count  231637.000000  \n",
              "mean        9.051153  \n",
              "std         3.734796  \n",
              "min         1.000000  \n",
              "25%         6.000000  \n",
              "50%         9.000000  \n",
              "75%        11.000000  \n",
              "max        43.000000  "
            ],
            "text/html": [
              "<div>\n",
              "<style scoped>\n",
              "    .dataframe tbody tr th:only-of-type {\n",
              "        vertical-align: middle;\n",
              "    }\n",
              "\n",
              "    .dataframe tbody tr th {\n",
              "        vertical-align: top;\n",
              "    }\n",
              "\n",
              "    .dataframe thead th {\n",
              "        text-align: right;\n",
              "    }\n",
              "</style>\n",
              "<table border=\"1\" class=\"dataframe\">\n",
              "  <thead>\n",
              "    <tr style=\"text-align: right;\">\n",
              "      <th></th>\n",
              "      <th>id</th>\n",
              "      <th>minutes</th>\n",
              "      <th>contributor_id</th>\n",
              "      <th>n_steps</th>\n",
              "      <th>n_ingredients</th>\n",
              "    </tr>\n",
              "  </thead>\n",
              "  <tbody>\n",
              "    <tr>\n",
              "      <th>count</th>\n",
              "      <td>231637.000000</td>\n",
              "      <td>2.316370e+05</td>\n",
              "      <td>2.316370e+05</td>\n",
              "      <td>231637.000000</td>\n",
              "      <td>231637.000000</td>\n",
              "    </tr>\n",
              "    <tr>\n",
              "      <th>mean</th>\n",
              "      <td>222014.708984</td>\n",
              "      <td>9.398546e+03</td>\n",
              "      <td>5.534885e+06</td>\n",
              "      <td>9.765499</td>\n",
              "      <td>9.051153</td>\n",
              "    </tr>\n",
              "    <tr>\n",
              "      <th>std</th>\n",
              "      <td>141206.635626</td>\n",
              "      <td>4.461963e+06</td>\n",
              "      <td>9.979141e+07</td>\n",
              "      <td>5.995128</td>\n",
              "      <td>3.734796</td>\n",
              "    </tr>\n",
              "    <tr>\n",
              "      <th>min</th>\n",
              "      <td>38.000000</td>\n",
              "      <td>0.000000e+00</td>\n",
              "      <td>2.700000e+01</td>\n",
              "      <td>0.000000</td>\n",
              "      <td>1.000000</td>\n",
              "    </tr>\n",
              "    <tr>\n",
              "      <th>25%</th>\n",
              "      <td>99944.000000</td>\n",
              "      <td>2.000000e+01</td>\n",
              "      <td>5.690500e+04</td>\n",
              "      <td>6.000000</td>\n",
              "      <td>6.000000</td>\n",
              "    </tr>\n",
              "    <tr>\n",
              "      <th>50%</th>\n",
              "      <td>207249.000000</td>\n",
              "      <td>4.000000e+01</td>\n",
              "      <td>1.736140e+05</td>\n",
              "      <td>9.000000</td>\n",
              "      <td>9.000000</td>\n",
              "    </tr>\n",
              "    <tr>\n",
              "      <th>75%</th>\n",
              "      <td>333816.000000</td>\n",
              "      <td>6.500000e+01</td>\n",
              "      <td>3.982750e+05</td>\n",
              "      <td>12.000000</td>\n",
              "      <td>11.000000</td>\n",
              "    </tr>\n",
              "    <tr>\n",
              "      <th>max</th>\n",
              "      <td>537716.000000</td>\n",
              "      <td>2.147484e+09</td>\n",
              "      <td>2.002290e+09</td>\n",
              "      <td>145.000000</td>\n",
              "      <td>43.000000</td>\n",
              "    </tr>\n",
              "  </tbody>\n",
              "</table>\n",
              "</div>"
            ]
          },
          "metadata": {}
        }
      ],
      "execution_count": 43,
      "metadata": {
        "_uuid": "d629ff2d2480ee46fbb7e2d37f6b5fab8052498a",
        "_cell_guid": "79c7e3d0-c299-4dcb-8224-4455121ee9b0",
        "trusted": true
      }
    },
    {
      "cell_type": "markdown",
      "source": [
        "2,147,484,000 minutes sounds like a very long time to cook a recipe. Let's take a closer look at the `minutes` column later on."
      ],
      "metadata": {}
    },
    {
      "cell_type": "code",
      "source": [
        "recipes[['minutes', 'n_steps', 'n_ingredients']].hist()"
      ],
      "outputs": [
        {
          "output_type": "execute_result",
          "execution_count": 44,
          "data": {
            "text/plain": [
              "array([[<matplotlib.axes._subplots.AxesSubplot object at 0x7fc34d63e5d0>,\n",
              "        <matplotlib.axes._subplots.AxesSubplot object at 0x7fc32d7b8910>],\n",
              "       [<matplotlib.axes._subplots.AxesSubplot object at 0x7fc32d769f90>,\n",
              "        <matplotlib.axes._subplots.AxesSubplot object at 0x7fc32d7267d0>]],\n",
              "      dtype=object)"
            ]
          },
          "metadata": {}
        },
        {
          "output_type": "display_data",
          "data": {
            "text/plain": [
              "<Figure size 432x288 with 4 Axes>"
            ],
            "image/png": "[encoded data removed]"
          },
          "metadata": {
            "needs_background": "light"
          }
        }
      ],
      "execution_count": 44,
      "metadata": {
        "trusted": true
      }
    },
    {
      "cell_type": "code",
      "source": [
        "interactions.head()"
      ],
      "outputs": [
        {
          "output_type": "execute_result",
          "execution_count": 45,
          "data": {
            "text/plain": [
              "   user_id  recipe_id        date  rating  \\\n",
              "0    38094      40893  2003-02-17       4   \n",
              "1  1293707      40893  2011-12-21       5   \n",
              "2     8937      44394  2002-12-01       4   \n",
              "3   126440      85009  2010-02-27       5   \n",
              "4    57222      85009  2011-10-01       5   \n",
              "\n",
              "                                              review  \n",
              "0  Great with a salad. Cooked on top of stove for...  \n",
              "1  So simple, so delicious! Great for chilly fall...  \n",
              "2  This worked very well and is EASY.  I used not...  \n",
              "3  I made the Mexican topping and took it to bunk...  \n",
              "4  Made the cheddar bacon topping, adding a sprin...  "
            ],
            "text/html": [
              "<div>\n",
              "<style scoped>\n",
              "    .dataframe tbody tr th:only-of-type {\n",
              "        vertical-align: middle;\n",
              "    }\n",
              "\n",
              "    .dataframe tbody tr th {\n",
              "        vertical-align: top;\n",
              "    }\n",
              "\n",
              "    .dataframe thead th {\n",
              "        text-align: right;\n",
              "    }\n",
              "</style>\n",
              "<table border=\"1\" class=\"dataframe\">\n",
              "  <thead>\n",
              "    <tr style=\"text-align: right;\">\n",
              "      <th></th>\n",
              "      <th>user_id</th>\n",
              "      <th>recipe_id</th>\n",
              "      <th>date</th>\n",
              "      <th>rating</th>\n",
              "      <th>review</th>\n",
              "    </tr>\n",
              "  </thead>\n",
              "  <tbody>\n",
              "    <tr>\n",
              "      <th>0</th>\n",
              "      <td>38094</td>\n",
              "      <td>40893</td>\n",
              "      <td>2003-02-17</td>\n",
              "      <td>4</td>\n",
              "      <td>Great with a salad. Cooked on top of stove for...</td>\n",
              "    </tr>\n",
              "    <tr>\n",
              "      <th>1</th>\n",
              "      <td>1293707</td>\n",
              "      <td>40893</td>\n",
              "      <td>2011-12-21</td>\n",
              "      <td>5</td>\n",
              "      <td>So simple, so delicious! Great for chilly fall...</td>\n",
              "    </tr>\n",
              "    <tr>\n",
              "      <th>2</th>\n",
              "      <td>8937</td>\n",
              "      <td>44394</td>\n",
              "      <td>2002-12-01</td>\n",
              "      <td>4</td>\n",
              "      <td>This worked very well and is EASY.  I used not...</td>\n",
              "    </tr>\n",
              "    <tr>\n",
              "      <th>3</th>\n",
              "      <td>126440</td>\n",
              "      <td>85009</td>\n",
              "      <td>2010-02-27</td>\n",
              "      <td>5</td>\n",
              "      <td>I made the Mexican topping and took it to bunk...</td>\n",
              "    </tr>\n",
              "    <tr>\n",
              "      <th>4</th>\n",
              "      <td>57222</td>\n",
              "      <td>85009</td>\n",
              "      <td>2011-10-01</td>\n",
              "      <td>5</td>\n",
              "      <td>Made the cheddar bacon topping, adding a sprin...</td>\n",
              "    </tr>\n",
              "  </tbody>\n",
              "</table>\n",
              "</div>"
            ]
          },
          "metadata": {}
        }
      ],
      "execution_count": 45,
      "metadata": {
        "trusted": true
      }
    },
    {
      "cell_type": "code",
      "source": [
        "print(interactions.info())\n",
        "interactions.describe()"
      ],
      "outputs": [
        {
          "output_type": "stream",
          "name": "stdout",
          "text": [
            "<class 'pandas.core.frame.DataFrame'>\n",
            "RangeIndex: 1132367 entries, 0 to 1132366\n",
            "Data columns (total 5 columns):\n",
            " #   Column     Non-Null Count    Dtype \n",
            "---  ------     --------------    ----- \n",
            " 0   user_id    1132367 non-null  int64 \n",
            " 1   recipe_id  1132367 non-null  int64 \n",
            " 2   date       1132367 non-null  object\n",
            " 3   rating     1132367 non-null  int64 \n",
            " 4   review     1132198 non-null  object\n",
            "dtypes: int64(3), object(2)\n",
            "memory usage: 43.2+ MB\n",
            "None\n"
          ]
        },
        {
          "output_type": "execute_result",
          "execution_count": 46,
          "data": {
            "text/plain": [
              "            user_id     recipe_id        rating\n",
              "count  1.132367e+06  1.132367e+06  1.132367e+06\n",
              "mean   1.384291e+08  1.608972e+05  4.411016e+00\n",
              "std    5.014269e+08  1.303987e+05  1.264752e+00\n",
              "min    1.533000e+03  3.800000e+01  0.000000e+00\n",
              "25%    1.354700e+05  5.425700e+04  4.000000e+00\n",
              "50%    3.309370e+05  1.205470e+05  5.000000e+00\n",
              "75%    8.045500e+05  2.438520e+05  5.000000e+00\n",
              "max    2.002373e+09  5.377160e+05  5.000000e+00"
            ],
            "text/html": [
              "<div>\n",
              "<style scoped>\n",
              "    .dataframe tbody tr th:only-of-type {\n",
              "        vertical-align: middle;\n",
              "    }\n",
              "\n",
              "    .dataframe tbody tr th {\n",
              "        vertical-align: top;\n",
              "    }\n",
              "\n",
              "    .dataframe thead th {\n",
              "        text-align: right;\n",
              "    }\n",
              "</style>\n",
              "<table border=\"1\" class=\"dataframe\">\n",
              "  <thead>\n",
              "    <tr style=\"text-align: right;\">\n",
              "      <th></th>\n",
              "      <th>user_id</th>\n",
              "      <th>recipe_id</th>\n",
              "      <th>rating</th>\n",
              "    </tr>\n",
              "  </thead>\n",
              "  <tbody>\n",
              "    <tr>\n",
              "      <th>count</th>\n",
              "      <td>1.132367e+06</td>\n",
              "      <td>1.132367e+06</td>\n",
              "      <td>1.132367e+06</td>\n",
              "    </tr>\n",
              "    <tr>\n",
              "      <th>mean</th>\n",
              "      <td>1.384291e+08</td>\n",
              "      <td>1.608972e+05</td>\n",
              "      <td>4.411016e+00</td>\n",
              "    </tr>\n",
              "    <tr>\n",
              "      <th>std</th>\n",
              "      <td>5.014269e+08</td>\n",
              "      <td>1.303987e+05</td>\n",
              "      <td>1.264752e+00</td>\n",
              "    </tr>\n",
              "    <tr>\n",
              "      <th>min</th>\n",
              "      <td>1.533000e+03</td>\n",
              "      <td>3.800000e+01</td>\n",
              "      <td>0.000000e+00</td>\n",
              "    </tr>\n",
              "    <tr>\n",
              "      <th>25%</th>\n",
              "      <td>1.354700e+05</td>\n",
              "      <td>5.425700e+04</td>\n",
              "      <td>4.000000e+00</td>\n",
              "    </tr>\n",
              "    <tr>\n",
              "      <th>50%</th>\n",
              "      <td>3.309370e+05</td>\n",
              "      <td>1.205470e+05</td>\n",
              "      <td>5.000000e+00</td>\n",
              "    </tr>\n",
              "    <tr>\n",
              "      <th>75%</th>\n",
              "      <td>8.045500e+05</td>\n",
              "      <td>2.438520e+05</td>\n",
              "      <td>5.000000e+00</td>\n",
              "    </tr>\n",
              "    <tr>\n",
              "      <th>max</th>\n",
              "      <td>2.002373e+09</td>\n",
              "      <td>5.377160e+05</td>\n",
              "      <td>5.000000e+00</td>\n",
              "    </tr>\n",
              "  </tbody>\n",
              "</table>\n",
              "</div>"
            ]
          },
          "metadata": {}
        }
      ],
      "execution_count": 46,
      "metadata": {
        "trusted": true
      }
    },
    {
      "cell_type": "code",
      "source": [
        "interactions['rating'].hist()"
      ],
      "outputs": [
        {
          "output_type": "execute_result",
          "execution_count": 47,
          "data": {
            "text/plain": [
              "<matplotlib.axes._subplots.AxesSubplot at 0x7fc32d607110>"
            ]
          },
          "metadata": {}
        },
        {
          "output_type": "display_data",
          "data": {
            "text/plain": [
              "<Figure size 432x288 with 1 Axes>"
            ],
            "image/png": "[encoded data removed]"
          },
          "metadata": {
            "needs_background": "light"
          }
        }
      ],
      "execution_count": 47,
      "metadata": {
        "trusted": true
      }
    },
    {
      "cell_type": "markdown",
      "source": [
        "Users tend to rate recipes very highly.\n",
        "\nThis is unlikely to mean that they are universally satisfied with recipes on food.com. More likely, users who don't like the results of a recipe either don't bother to rate, or blame their own cooking skills, giving the recipe author a benefit of the doubt."
      ],
      "metadata": {}
    },
    {
      "cell_type": "markdown",
      "source": [
        "## Data wrangling"
      ],
      "metadata": {}
    },
    {
      "cell_type": "markdown",
      "source": [
        "Let's start by filtering the dataset down to our chosen 10-year interval."
      ],
      "metadata": {}
    },
    {
      "cell_type": "code",
      "source": [
        "from_year, to_year = '2008-01-01','2017-12-31'\n",
        "\n",
        "recipes['submitted'] = pd.to_datetime(recipes['submitted'])\n",
        "recipes['submitted'] = recipes['submitted'].apply(lambda x: x.tz_localize(None))\n",
        "recipes_l0y = recipes.loc[recipes['submitted'].between(from_year, to_year, inclusive=False)]\n",
        "\n",
        "interactions['date'] = pd.to_datetime(interactions['date'])\n",
        "interactions['date'] = interactions['date'].apply(lambda x: x.tz_localize(None))\n",
        "interactions_l0y = interactions.loc[interactions['date'].between(from_year, to_year, inclusive=False)]\n",
        "\n",
        "print(recipes_l0y.shape)\n",
        "print(interactions_l0y.shape)"
      ],
      "outputs": [
        {
          "output_type": "stream",
          "name": "stdout",
          "text": [
            "(83535, 12)\n",
            "(710495, 5)\n"
          ]
        }
      ],
      "execution_count": 48,
      "metadata": {
        "trusted": true
      }
    },
    {
      "cell_type": "markdown",
      "source": [
        "### Remove outliers"
      ],
      "metadata": {}
    },
    {
      "cell_type": "code",
      "source": [
        "sns.boxplot(x=recipes_l0y[\"minutes\"])"
      ],
      "outputs": [
        {
          "output_type": "execute_result",
          "execution_count": 49,
          "data": {
            "text/plain": [
              "<matplotlib.axes._subplots.AxesSubplot at 0x7fc32d5a6410>"
            ]
          },
          "metadata": {}
        },
        {
          "output_type": "display_data",
          "data": {
            "text/plain": [
              "<Figure size 432x288 with 1 Axes>"
            ],
            "image/png": "[encoded data removed]"
          },
          "metadata": {
            "needs_background": "light"
          }
        }
      ],
      "execution_count": 49,
      "metadata": {
        "trusted": true
      }
    },
    {
      "cell_type": "markdown",
      "source": [
        "There is clearly at least one extreme outlier in the data set. 694 days is too long of a preparation time for even the tastiest of recipes!"
      ],
      "metadata": {}
    },
    {
      "cell_type": "code",
      "source": [
        "# calculate the first quartile, third quartile and the interquartile range\n",
        "Q1 = recipes_l0y['minutes'].quantile(0.25)\n",
        "Q3 = recipes_l0y['minutes'].quantile(0.75)\n",
        "IQR = Q3 - Q1\n",
        "\n",
        "# calculate the maximum value and minimum values according to the Tukey rule\n",
        "max_value = Q3 + 1.5 * IQR\n",
        "min_value = Q1 - 1.5 * IQR\n",
        "\n",
        "# filter the data for values that are greater than max_value or less than min_value\n",
        "minutes_outliers = recipes_l0y[(recipes_l0y['minutes'] > max_value) | (recipes_l0y['minutes'] < min_value)]\n",
        "minutes_outliers.sort_values('minutes')"
      ],
      "outputs": [
        {
          "output_type": "execute_result",
          "execution_count": 50,
          "data": {
            "text/plain": [
              "                                     name      id  minutes  contributor_id  \\\n",
              "195076             spiced vanilla cookies  373422      128         1135830   \n",
              "13003       bagel dogs or mini bagel dogs  380125      128           28177   \n",
              "27291              bourbon glazed  salmon  426721      128         1422300   \n",
              "70496   deep  dark  delicious oxtail stew  463229      128          200862   \n",
              "103021                   hazelnut chewies  336533      128          227586   \n",
              "...                                   ...     ...      ...             ...   \n",
              "155096                      peach cordial  435928    86415          597669   \n",
              "106964           homemade vanilla extract  463624   129600         1722785   \n",
              "106963                   homemade vanilla  425681   259205           28177   \n",
              "106563             homemade fruit liquers  291571   288000          553251   \n",
              "109624          how to preserve a husband  447963  1051200          576273   \n",
              "\n",
              "        submitted                                               tags  \\\n",
              "195076 2009-05-20  ['time-to-make', 'course', 'preparation', 'occ...   \n",
              "13003  2009-07-03  ['weeknight', 'time-to-make', 'course', 'main-...   \n",
              "27291  2010-05-22  ['time-to-make', 'main-ingredient', 'preparati...   \n",
              "70496  2011-08-29  ['time-to-make', 'course', 'main-ingredient', ...   \n",
              "103021 2008-11-11  ['time-to-make', 'course', 'preparation', 'des...   \n",
              "...           ...                                                ...   \n",
              "155096 2010-08-24  ['time-to-make', 'course', 'main-ingredient', ...   \n",
              "106964 2011-09-05  ['time-to-make', 'preparation', 'occasion', 'f...   \n",
              "106963 2010-05-16  ['time-to-make', 'preparation', '5-ingredients...   \n",
              "106563 2008-03-12  ['time-to-make', 'course', 'main-ingredient', ...   \n",
              "109624 2011-02-01  ['time-to-make', 'course', 'preparation', 'for...   \n",
              "\n",
              "                                          nutrition  n_steps  \\\n",
              "195076       [105.0, 4.0, 22.0, 2.0, 3.0, 5.0, 5.0]       28   \n",
              "13003        [111.4, 6.0, 4.0, 39.0, 6.0, 8.0, 4.0]       21   \n",
              "27291      [277.6, 9.0, 41.0, 29.0, 68.0, 4.0, 4.0]       11   \n",
              "70496       [147.4, 0.0, 24.0, 13.0, 1.0, 0.0, 4.0]       17   \n",
              "103021  [563.7, 37.0, 199.0, 7.0, 17.0, 26.0, 26.0]       14   \n",
              "...                                             ...      ...   \n",
              "155096       [111.2, 0.0, 46.0, 0.0, 0.0, 0.0, 3.0]        7   \n",
              "106964         [75.2, 0.0, 0.0, 0.0, 0.0, 0.0, 0.0]       12   \n",
              "106963         [69.4, 0.0, 0.0, 0.0, 0.0, 0.0, 0.0]        9   \n",
              "106563     [836.2, 0.0, 333.0, 0.0, 0.0, 0.0, 27.0]       12   \n",
              "109624    [407.4, 57.0, 50.0, 1.0, 7.0, 115.0, 5.0]        9   \n",
              "\n",
              "                                                    steps  \\\n",
              "195076  ['weigh or measure flour into dry measuring cu...   \n",
              "13003   ['in a large mixing bowl , dissolve the yeast ...   \n",
              "27291   ['combine first 8 ingredients in a large zip-t...   \n",
              "70496   ['rinse the oxtail chunks and , using a large ...   \n",
              "103021  ['adjust oven racks to upper middle and lower ...   \n",
              "...                                                   ...   \n",
              "155096  ['in a gallon glass mayonnaise jar , or other ...   \n",
              "106964  ['carefully open the bottle of brandy', 'pour ...   \n",
              "106963  ['slice the vanilla beans length-wise and scra...   \n",
              "106563  ['rinse the fruit or berries , fruit must be c...   \n",
              "109624  ['be careful in your selection', \"don't choose...   \n",
              "\n",
              "                                              description  \\\n",
              "195076  i love baking cookies.  i made these over the ...   \n",
              "13003   we were shopping last week when my husband com...   \n",
              "27291   this is how this delicious salmon is served in...   \n",
              "70496   although i know my american friends do not fav...   \n",
              "103021  this was published in cook's country 2008 dec ...   \n",
              "...                                                   ...   \n",
              "155096  now that peach season is here, make some of th...   \n",
              "106964  after getting a very poor bottle of vanilla ex...   \n",
              "106963  found this recipe on tammy's blog (http://www....   \n",
              "106563  this should be a nice easy project for those w...   \n",
              "109624  found this in a local wyoming cookbook \"a coll...   \n",
              "\n",
              "                                              ingredients  n_ingredients  \n",
              "195076  ['all-purpose flour', 'ground cinnamon', 'nutm...             11  \n",
              "13003   ['active dry yeast', 'brown sugar', 'salt', 'w...             10  \n",
              "27291   ['brown sugar', 'bourbon', 'low sodium soy sau...             11  \n",
              "70496   ['oxtails', 'dry red wine', 'onion', 'salt', '...             10  \n",
              "103021  ['all-purpose flour', 'baking powder', 'salt',...             12  \n",
              "...                                                   ...            ...  \n",
              "155096  ['peaches', 'granulated sugar', 'cinnamon stic...              6  \n",
              "106964                        ['brandy', 'vanilla beans']              2  \n",
              "106963                         ['vanilla beans', 'vodka']              2  \n",
              "106563           ['berries', 'vodka', 'granulated sugar']              3  \n",
              "109624                                 ['cream', 'peach']              2  \n",
              "\n[8408 rows x 12 columns]"
            ],
            "text/html": [
              "<div>\n",
              "<style scoped>\n",
              "    .dataframe tbody tr th:only-of-type {\n",
              "        vertical-align: middle;\n",
              "    }\n",
              "\n",
              "    .dataframe tbody tr th {\n",
              "        vertical-align: top;\n",
              "    }\n",
              "\n",
              "    .dataframe thead th {\n",
              "        text-align: right;\n",
              "    }\n",
              "</style>\n",
              "<table border=\"1\" class=\"dataframe\">\n",
              "  <thead>\n",
              "    <tr style=\"text-align: right;\">\n",
              "      <th></th>\n",
              "      <th>name</th>\n",
              "      <th>id</th>\n",
              "      <th>minutes</th>\n",
              "      <th>contributor_id</th>\n",
              "      <th>submitted</th>\n",
              "      <th>tags</th>\n",
              "      <th>nutrition</th>\n",
              "      <th>n_steps</th>\n",
              "      <th>steps</th>\n",
              "      <th>description</th>\n",
              "      <th>ingredients</th>\n",
              "      <th>n_ingredients</th>\n",
              "    </tr>\n",
              "  </thead>\n",
              "  <tbody>\n",
              "    <tr>\n",
              "      <th>195076</th>\n",
              "      <td>spiced vanilla cookies</td>\n",
              "      <td>373422</td>\n",
              "      <td>128</td>\n",
              "      <td>1135830</td>\n",
              "      <td>2009-05-20</td>\n",
              "      <td>['time-to-make', 'course', 'preparation', 'occ...</td>\n",
              "      <td>[105.0, 4.0, 22.0, 2.0, 3.0, 5.0, 5.0]</td>\n",
              "      <td>28</td>\n",
              "      <td>['weigh or measure flour into dry measuring cu...</td>\n",
              "      <td>i love baking cookies.  i made these over the ...</td>\n",
              "      <td>['all-purpose flour', 'ground cinnamon', 'nutm...</td>\n",
              "      <td>11</td>\n",
              "    </tr>\n",
              "    <tr>\n",
              "      <th>13003</th>\n",
              "      <td>bagel dogs or mini bagel dogs</td>\n",
              "      <td>380125</td>\n",
              "      <td>128</td>\n",
              "      <td>28177</td>\n",
              "      <td>2009-07-03</td>\n",
              "      <td>['weeknight', 'time-to-make', 'course', 'main-...</td>\n",
              "      <td>[111.4, 6.0, 4.0, 39.0, 6.0, 8.0, 4.0]</td>\n",
              "      <td>21</td>\n",
              "      <td>['in a large mixing bowl , dissolve the yeast ...</td>\n",
              "      <td>we were shopping last week when my husband com...</td>\n",
              "      <td>['active dry yeast', 'brown sugar', 'salt', 'w...</td>\n",
              "      <td>10</td>\n",
              "    </tr>\n",
              "    <tr>\n",
              "      <th>27291</th>\n",
              "      <td>bourbon glazed  salmon</td>\n",
              "      <td>426721</td>\n",
              "      <td>128</td>\n",
              "      <td>1422300</td>\n",
              "      <td>2010-05-22</td>\n",
              "      <td>['time-to-make', 'main-ingredient', 'preparati...</td>\n",
              "      <td>[277.6, 9.0, 41.0, 29.0, 68.0, 4.0, 4.0]</td>\n",
              "      <td>11</td>\n",
              "      <td>['combine first 8 ingredients in a large zip-t...</td>\n",
              "      <td>this is how this delicious salmon is served in...</td>\n",
              "      <td>['brown sugar', 'bourbon', 'low sodium soy sau...</td>\n",
              "      <td>11</td>\n",
              "    </tr>\n",
              "    <tr>\n",
              "      <th>70496</th>\n",
              "      <td>deep  dark  delicious oxtail stew</td>\n",
              "      <td>463229</td>\n",
              "      <td>128</td>\n",
              "      <td>200862</td>\n",
              "      <td>2011-08-29</td>\n",
              "      <td>['time-to-make', 'course', 'main-ingredient', ...</td>\n",
              "      <td>[147.4, 0.0, 24.0, 13.0, 1.0, 0.0, 4.0]</td>\n",
              "      <td>17</td>\n",
              "      <td>['rinse the oxtail chunks and , using a large ...</td>\n",
              "      <td>although i know my american friends do not fav...</td>\n",
              "      <td>['oxtails', 'dry red wine', 'onion', 'salt', '...</td>\n",
              "      <td>10</td>\n",
              "    </tr>\n",
              "    <tr>\n",
              "      <th>103021</th>\n",
              "      <td>hazelnut chewies</td>\n",
              "      <td>336533</td>\n",
              "      <td>128</td>\n",
              "      <td>227586</td>\n",
              "      <td>2008-11-11</td>\n",
              "      <td>['time-to-make', 'course', 'preparation', 'des...</td>\n",
              "      <td>[563.7, 37.0, 199.0, 7.0, 17.0, 26.0, 26.0]</td>\n",
              "      <td>14</td>\n",
              "      <td>['adjust oven racks to upper middle and lower ...</td>\n",
              "      <td>this was published in cook's country 2008 dec ...</td>\n",
              "      <td>['all-purpose flour', 'baking powder', 'salt',...</td>\n",
              "      <td>12</td>\n",
              "    </tr>\n",
              "    <tr>\n",
              "      <th>...</th>\n",
              "      <td>...</td>\n",
              "      <td>...</td>\n",
              "      <td>...</td>\n",
              "      <td>...</td>\n",
              "      <td>...</td>\n",
              "      <td>...</td>\n",
              "      <td>...</td>\n",
              "      <td>...</td>\n",
              "      <td>...</td>\n",
              "      <td>...</td>\n",
              "      <td>...</td>\n",
              "      <td>...</td>\n",
              "    </tr>\n",
              "    <tr>\n",
              "      <th>155096</th>\n",
              "      <td>peach cordial</td>\n",
              "      <td>435928</td>\n",
              "      <td>86415</td>\n",
              "      <td>597669</td>\n",
              "      <td>2010-08-24</td>\n",
              "      <td>['time-to-make', 'course', 'main-ingredient', ...</td>\n",
              "      <td>[111.2, 0.0, 46.0, 0.0, 0.0, 0.0, 3.0]</td>\n",
              "      <td>7</td>\n",
              "      <td>['in a gallon glass mayonnaise jar , or other ...</td>\n",
              "      <td>now that peach season is here, make some of th...</td>\n",
              "      <td>['peaches', 'granulated sugar', 'cinnamon stic...</td>\n",
              "      <td>6</td>\n",
              "    </tr>\n",
              "    <tr>\n",
              "      <th>106964</th>\n",
              "      <td>homemade vanilla extract</td>\n",
              "      <td>463624</td>\n",
              "      <td>129600</td>\n",
              "      <td>1722785</td>\n",
              "      <td>2011-09-05</td>\n",
              "      <td>['time-to-make', 'preparation', 'occasion', 'f...</td>\n",
              "      <td>[75.2, 0.0, 0.0, 0.0, 0.0, 0.0, 0.0]</td>\n",
              "      <td>12</td>\n",
              "      <td>['carefully open the bottle of brandy', 'pour ...</td>\n",
              "      <td>after getting a very poor bottle of vanilla ex...</td>\n",
              "      <td>['brandy', 'vanilla beans']</td>\n",
              "      <td>2</td>\n",
              "    </tr>\n",
              "    <tr>\n",
              "      <th>106963</th>\n",
              "      <td>homemade vanilla</td>\n",
              "      <td>425681</td>\n",
              "      <td>259205</td>\n",
              "      <td>28177</td>\n",
              "      <td>2010-05-16</td>\n",
              "      <td>['time-to-make', 'preparation', '5-ingredients...</td>\n",
              "      <td>[69.4, 0.0, 0.0, 0.0, 0.0, 0.0, 0.0]</td>\n",
              "      <td>9</td>\n",
              "      <td>['slice the vanilla beans length-wise and scra...</td>\n",
              "      <td>found this recipe on tammy's blog (http://www....</td>\n",
              "      <td>['vanilla beans', 'vodka']</td>\n",
              "      <td>2</td>\n",
              "    </tr>\n",
              "    <tr>\n",
              "      <th>106563</th>\n",
              "      <td>homemade fruit liquers</td>\n",
              "      <td>291571</td>\n",
              "      <td>288000</td>\n",
              "      <td>553251</td>\n",
              "      <td>2008-03-12</td>\n",
              "      <td>['time-to-make', 'course', 'main-ingredient', ...</td>\n",
              "      <td>[836.2, 0.0, 333.0, 0.0, 0.0, 0.0, 27.0]</td>\n",
              "      <td>12</td>\n",
              "      <td>['rinse the fruit or berries , fruit must be c...</td>\n",
              "      <td>this should be a nice easy project for those w...</td>\n",
              "      <td>['berries', 'vodka', 'granulated sugar']</td>\n",
              "      <td>3</td>\n",
              "    </tr>\n",
              "    <tr>\n",
              "      <th>109624</th>\n",
              "      <td>how to preserve a husband</td>\n",
              "      <td>447963</td>\n",
              "      <td>1051200</td>\n",
              "      <td>576273</td>\n",
              "      <td>2011-02-01</td>\n",
              "      <td>['time-to-make', 'course', 'preparation', 'for...</td>\n",
              "      <td>[407.4, 57.0, 50.0, 1.0, 7.0, 115.0, 5.0]</td>\n",
              "      <td>9</td>\n",
              "      <td>['be careful in your selection', \"don't choose...</td>\n",
              "      <td>found this in a local wyoming cookbook \"a coll...</td>\n",
              "      <td>['cream', 'peach']</td>\n",
              "      <td>2</td>\n",
              "    </tr>\n",
              "  </tbody>\n",
              "</table>\n",
              "<p>8408 rows × 12 columns</p>\n",
              "</div>"
            ]
          },
          "metadata": {}
        }
      ],
      "execution_count": 50,
      "metadata": {
        "trusted": true
      }
    },
    {
      "cell_type": "markdown",
      "source": [
        "As we can see above, the Tukey method filters out many reasonable recipes as outliers. Some recipes, such as pickles, extracts and liqueurs can take many days to prepare, and should not be excluded.\n",
        "\nThe one extreme outlier at 1051200 minutes is the [How to Preserve a Husband](https://www.food.com/recipe/how-to-preserve-a-husband-447963) recipe. Although it is no doubt very valuable, I will exclude it from the rest of this exploration."
      ],
      "metadata": {}
    },
    {
      "cell_type": "markdown",
      "source": [
        "### Exclude How to Preserve a Husband recipe"
      ],
      "metadata": {}
    },
    {
      "cell_type": "code",
      "source": [
        "# filter out recipes that take longer than 730 days as outliers\n",
        "recipes_l0y = recipes_l0y.query('minutes < 1051200')"
      ],
      "outputs": [],
      "execution_count": 51,
      "metadata": {
        "trusted": true
      }
    },
    {
      "cell_type": "markdown",
      "source": [
        "### Rating count and average by recipe and year"
      ],
      "metadata": {}
    },
    {
      "cell_type": "code",
      "source": [
        "recipes_l0y['year'] = recipes_l0y['submitted'].dt.year\n",
        "interactions_l0y['year'] = interactions_l0y['date'].dt.year"
      ],
      "outputs": [
        {
          "output_type": "stream",
          "name": "stderr",
          "text": [
            "/opt/conda/lib/python3.7/site-packages/ipykernel_launcher.py:2: SettingWithCopyWarning: \n",
            "A value is trying to be set on a copy of a slice from a DataFrame.\n",
            "Try using .loc[row_indexer,col_indexer] = value instead\n",
            "\n",
            "See the caveats in the documentation: https://pandas.pydata.org/pandas-docs/stable/user_guide/indexing.html#returning-a-view-versus-a-copy\n",
            "  \n"
          ]
        }
      ],
      "execution_count": 52,
      "metadata": {
        "trusted": true
      }
    },
    {
      "cell_type": "code",
      "source": [
        "ratings_by_recipe = interactions_l0y.groupby(['recipe_id', 'year']).agg(\n",
        "    rating_cnt = ('rating', 'count'),\n",
        "    rating_avg = ('rating', 'mean'),\n",
        ")\n",
        "ratings_by_recipe.head()"
      ],
      "outputs": [
        {
          "output_type": "execute_result",
          "execution_count": 53,
          "data": {
            "text/plain": [
              "                rating_cnt  rating_avg\n",
              "recipe_id year                        \n",
              "38        2008           1         5.0\n",
              "          2009           1         4.0\n",
              "          2014           2         4.0\n",
              "40        2008           1         5.0\n",
              "          2009           1         5.0"
            ],
            "text/html": [
              "<div>\n",
              "<style scoped>\n",
              "    .dataframe tbody tr th:only-of-type {\n",
              "        vertical-align: middle;\n",
              "    }\n",
              "\n",
              "    .dataframe tbody tr th {\n",
              "        vertical-align: top;\n",
              "    }\n",
              "\n",
              "    .dataframe thead th {\n",
              "        text-align: right;\n",
              "    }\n",
              "</style>\n",
              "<table border=\"1\" class=\"dataframe\">\n",
              "  <thead>\n",
              "    <tr style=\"text-align: right;\">\n",
              "      <th></th>\n",
              "      <th></th>\n",
              "      <th>rating_cnt</th>\n",
              "      <th>rating_avg</th>\n",
              "    </tr>\n",
              "    <tr>\n",
              "      <th>recipe_id</th>\n",
              "      <th>year</th>\n",
              "      <th></th>\n",
              "      <th></th>\n",
              "    </tr>\n",
              "  </thead>\n",
              "  <tbody>\n",
              "    <tr>\n",
              "      <th rowspan=\"3\" valign=\"top\">38</th>\n",
              "      <th>2008</th>\n",
              "      <td>1</td>\n",
              "      <td>5.0</td>\n",
              "    </tr>\n",
              "    <tr>\n",
              "      <th>2009</th>\n",
              "      <td>1</td>\n",
              "      <td>4.0</td>\n",
              "    </tr>\n",
              "    <tr>\n",
              "      <th>2014</th>\n",
              "      <td>2</td>\n",
              "      <td>4.0</td>\n",
              "    </tr>\n",
              "    <tr>\n",
              "      <th rowspan=\"2\" valign=\"top\">40</th>\n",
              "      <th>2008</th>\n",
              "      <td>1</td>\n",
              "      <td>5.0</td>\n",
              "    </tr>\n",
              "    <tr>\n",
              "      <th>2009</th>\n",
              "      <td>1</td>\n",
              "      <td>5.0</td>\n",
              "    </tr>\n",
              "  </tbody>\n",
              "</table>\n",
              "</div>"
            ]
          },
          "metadata": {}
        }
      ],
      "execution_count": 53,
      "metadata": {
        "trusted": true
      }
    },
    {
      "cell_type": "markdown",
      "source": [
        "### Merge recipes and ratings"
      ],
      "metadata": {}
    },
    {
      "cell_type": "code",
      "source": [
        "recipes_and_ratings = recipes_l0y.merge(ratings_by_recipe, left_on='id', right_on='recipe_id')\n",
        "recipes_and_ratings.head(2)"
      ],
      "outputs": [
        {
          "output_type": "execute_result",
          "execution_count": 54,
          "data": {
            "text/plain": [
              "                                   name      id  minutes  contributor_id  \\\n",
              "0  1 brownies in the world    best ever  333281       40          985201   \n",
              "1    1 in canada chocolate chip cookies  453467       45         1848091   \n",
              "\n",
              "   submitted                                               tags  \\\n",
              "0 2008-10-27  ['60-minutes-or-less', 'time-to-make', 'course...   \n",
              "1 2011-04-11  ['60-minutes-or-less', 'time-to-make', 'cuisin...   \n",
              "\n",
              "                                      nutrition  n_steps  \\\n",
              "0      [138.4, 10.0, 50.0, 3.0, 3.0, 19.0, 6.0]       10   \n",
              "1  [595.1, 46.0, 211.0, 22.0, 13.0, 51.0, 26.0]       12   \n",
              "\n",
              "                                               steps  \\\n",
              "0  ['heat the oven to 350f and arrange the rack i...   \n",
              "1  ['pre-heat oven the 350 degrees f', 'in a mixi...   \n",
              "\n",
              "                                         description  \\\n",
              "0  these are the most; chocolatey, moist, rich, d...   \n",
              "1  this is the recipe that we use at my school ca...   \n",
              "\n",
              "                                         ingredients  n_ingredients  year  \\\n",
              "0  ['bittersweet chocolate', 'unsalted butter', '...              9  2008   \n",
              "1  ['white sugar', 'brown sugar', 'salt', 'margar...             11  2011   \n",
              "\n",
              "   rating_cnt  rating_avg  \n",
              "0           1         4.0  \n",
              "1           1         5.0  "
            ],
            "text/html": [
              "<div>\n",
              "<style scoped>\n",
              "    .dataframe tbody tr th:only-of-type {\n",
              "        vertical-align: middle;\n",
              "    }\n",
              "\n",
              "    .dataframe tbody tr th {\n",
              "        vertical-align: top;\n",
              "    }\n",
              "\n",
              "    .dataframe thead th {\n",
              "        text-align: right;\n",
              "    }\n",
              "</style>\n",
              "<table border=\"1\" class=\"dataframe\">\n",
              "  <thead>\n",
              "    <tr style=\"text-align: right;\">\n",
              "      <th></th>\n",
              "      <th>name</th>\n",
              "      <th>id</th>\n",
              "      <th>minutes</th>\n",
              "      <th>contributor_id</th>\n",
              "      <th>submitted</th>\n",
              "      <th>tags</th>\n",
              "      <th>nutrition</th>\n",
              "      <th>n_steps</th>\n",
              "      <th>steps</th>\n",
              "      <th>description</th>\n",
              "      <th>ingredients</th>\n",
              "      <th>n_ingredients</th>\n",
              "      <th>year</th>\n",
              "      <th>rating_cnt</th>\n",
              "      <th>rating_avg</th>\n",
              "    </tr>\n",
              "  </thead>\n",
              "  <tbody>\n",
              "    <tr>\n",
              "      <th>0</th>\n",
              "      <td>1 brownies in the world    best ever</td>\n",
              "      <td>333281</td>\n",
              "      <td>40</td>\n",
              "      <td>985201</td>\n",
              "      <td>2008-10-27</td>\n",
              "      <td>['60-minutes-or-less', 'time-to-make', 'course...</td>\n",
              "      <td>[138.4, 10.0, 50.0, 3.0, 3.0, 19.0, 6.0]</td>\n",
              "      <td>10</td>\n",
              "      <td>['heat the oven to 350f and arrange the rack i...</td>\n",
              "      <td>these are the most; chocolatey, moist, rich, d...</td>\n",
              "      <td>['bittersweet chocolate', 'unsalted butter', '...</td>\n",
              "      <td>9</td>\n",
              "      <td>2008</td>\n",
              "      <td>1</td>\n",
              "      <td>4.0</td>\n",
              "    </tr>\n",
              "    <tr>\n",
              "      <th>1</th>\n",
              "      <td>1 in canada chocolate chip cookies</td>\n",
              "      <td>453467</td>\n",
              "      <td>45</td>\n",
              "      <td>1848091</td>\n",
              "      <td>2011-04-11</td>\n",
              "      <td>['60-minutes-or-less', 'time-to-make', 'cuisin...</td>\n",
              "      <td>[595.1, 46.0, 211.0, 22.0, 13.0, 51.0, 26.0]</td>\n",
              "      <td>12</td>\n",
              "      <td>['pre-heat oven the 350 degrees f', 'in a mixi...</td>\n",
              "      <td>this is the recipe that we use at my school ca...</td>\n",
              "      <td>['white sugar', 'brown sugar', 'salt', 'margar...</td>\n",
              "      <td>11</td>\n",
              "      <td>2011</td>\n",
              "      <td>1</td>\n",
              "      <td>5.0</td>\n",
              "    </tr>\n",
              "  </tbody>\n",
              "</table>\n",
              "</div>"
            ]
          },
          "metadata": {}
        }
      ],
      "execution_count": 54,
      "metadata": {
        "trusted": true
      }
    },
    {
      "cell_type": "markdown",
      "source": [
        "### Tags to lists"
      ],
      "metadata": {}
    },
    {
      "cell_type": "code",
      "source": [
        "# convert the tags column to list format\n",
        "recipes_and_ratings['tags'] = recipes_and_ratings['tags'].apply(lambda x: literal_eval(str(x)))"
      ],
      "outputs": [],
      "execution_count": 55,
      "metadata": {
        "trusted": true
      }
    },
    {
      "cell_type": "markdown",
      "source": [
        "### Add vegan and vegetarian columns, check overlap"
      ],
      "metadata": {}
    },
    {
      "cell_type": "code",
      "source": [
        "# add vegetarian and vegan boolean columns\n",
        "recipes_and_ratings['vegetarian'] = ['vegetarian' in tag for tag in recipes_and_ratings['tags']]\n",
        "recipes_and_ratings['vegan'] = ['vegan' in tag for tag in recipes_and_ratings['tags']]\n",
        "recipes_and_ratings = recipes_and_ratings.drop(columns=['name', 'tags', 'nutrition', 'steps', 'description', 'ingredients'])\n",
        "recipes_and_ratings.head(2)"
      ],
      "outputs": [
        {
          "output_type": "execute_result",
          "execution_count": 56,
          "data": {
            "text/plain": [
              "       id  minutes  contributor_id  submitted  n_steps  n_ingredients  year  \\\n",
              "0  333281       40          985201 2008-10-27       10              9  2008   \n",
              "1  453467       45         1848091 2011-04-11       12             11  2011   \n",
              "\n",
              "   rating_cnt  rating_avg  vegetarian  vegan  \n",
              "0           1         4.0       False  False  \n",
              "1           1         5.0       False  False  "
            ],
            "text/html": [
              "<div>\n",
              "<style scoped>\n",
              "    .dataframe tbody tr th:only-of-type {\n",
              "        vertical-align: middle;\n",
              "    }\n",
              "\n",
              "    .dataframe tbody tr th {\n",
              "        vertical-align: top;\n",
              "    }\n",
              "\n",
              "    .dataframe thead th {\n",
              "        text-align: right;\n",
              "    }\n",
              "</style>\n",
              "<table border=\"1\" class=\"dataframe\">\n",
              "  <thead>\n",
              "    <tr style=\"text-align: right;\">\n",
              "      <th></th>\n",
              "      <th>id</th>\n",
              "      <th>minutes</th>\n",
              "      <th>contributor_id</th>\n",
              "      <th>submitted</th>\n",
              "      <th>n_steps</th>\n",
              "      <th>n_ingredients</th>\n",
              "      <th>year</th>\n",
              "      <th>rating_cnt</th>\n",
              "      <th>rating_avg</th>\n",
              "      <th>vegetarian</th>\n",
              "      <th>vegan</th>\n",
              "    </tr>\n",
              "  </thead>\n",
              "  <tbody>\n",
              "    <tr>\n",
              "      <th>0</th>\n",
              "      <td>333281</td>\n",
              "      <td>40</td>\n",
              "      <td>985201</td>\n",
              "      <td>2008-10-27</td>\n",
              "      <td>10</td>\n",
              "      <td>9</td>\n",
              "      <td>2008</td>\n",
              "      <td>1</td>\n",
              "      <td>4.0</td>\n",
              "      <td>False</td>\n",
              "      <td>False</td>\n",
              "    </tr>\n",
              "    <tr>\n",
              "      <th>1</th>\n",
              "      <td>453467</td>\n",
              "      <td>45</td>\n",
              "      <td>1848091</td>\n",
              "      <td>2011-04-11</td>\n",
              "      <td>12</td>\n",
              "      <td>11</td>\n",
              "      <td>2011</td>\n",
              "      <td>1</td>\n",
              "      <td>5.0</td>\n",
              "      <td>False</td>\n",
              "      <td>False</td>\n",
              "    </tr>\n",
              "  </tbody>\n",
              "</table>\n",
              "</div>"
            ]
          },
          "metadata": {}
        }
      ],
      "execution_count": 56,
      "metadata": {
        "trusted": true
      }
    },
    {
      "cell_type": "code",
      "source": [
        "#plot a venn diagram of vegetarian and vegan recipe counts\n",
        "vegetarian_cnt = len(recipes_and_ratings.query('vegetarian == True'))\n",
        "vegan_cnt = len(recipes_and_ratings.query('vegan == True'))\n",
        "intersect_cnt = len(recipes_and_ratings.query('vegetarian == True and vegan == True'))\n",
        "\nvenn2(subsets = (vegetarian_cnt, vegan_cnt-intersect_cnt, intersect_cnt), set_labels = ('Vegatarian', 'Vegan'), set_colors=('#b7e778', '#031c16', '#031c16'), alpha = 1)"
      ],
      "outputs": [
        {
          "output_type": "execute_result",
          "execution_count": 57,
          "data": {
            "text/plain": [
              "<matplotlib_venn._common.VennDiagram at 0x7fc312a87a90>"
            ]
          },
          "metadata": {}
        },
        {
          "output_type": "display_data",
          "data": {
            "text/plain": [
              "<Figure size 432x288 with 1 Axes>"
            ],
            "image/png": "[encoded data removed]"
          },
          "metadata": {}
        }
      ],
      "execution_count": 57,
      "metadata": {
        "trusted": true
      }
    },
    {
      "cell_type": "markdown",
      "source": [
        "As expected, we can se that the `vegetarian` tag is a superset of the `vegan` category, so we don't need to preprocess the tags any further.\n",
        "\nGiven the very high likelyhood of users forgetting to tag vegan recipes as vegetarian, we can assume that the tags were automatically generated by the system."
      ],
      "metadata": {}
    },
    {
      "cell_type": "markdown",
      "source": [
        "## Exploration"
      ],
      "metadata": {}
    },
    {
      "cell_type": "markdown",
      "source": [
        "### New recipes by year"
      ],
      "metadata": {}
    },
    {
      "cell_type": "code",
      "source": [
        "df = recipes_and_ratings.groupby(['year', 'vegetarian']).agg(\n",
        "    recipe_cnt = ('id', 'count')\n",
        ").reset_index()\n",
        "\n",
        "plt.figure(figsize=(12,6))\n",
        "\n",
        "ax = sns.lineplot(data=df, x='year', y='recipe_cnt', hue='vegetarian', linewidth=2.5)\n",
        "ax.set(ylim=(0, None))\n",
        "ax.set_title('Number of new recipees by year')\n",
        "ax"
      ],
      "outputs": [
        {
          "output_type": "execute_result",
          "execution_count": 58,
          "data": {
            "text/plain": [
              "<matplotlib.axes._subplots.AxesSubplot at 0x7fc32d5f2b50>"
            ]
          },
          "metadata": {}
        },
        {
          "output_type": "display_data",
          "data": {
            "text/plain": [
              "<Figure size 864x432 with 1 Axes>"
            ],
            "image/png": "[encoded data removed]"
          },
          "metadata": {
            "needs_background": "light"
          }
        }
      ],
      "execution_count": 58,
      "metadata": {
        "trusted": true
      }
    },
    {
      "cell_type": "markdown",
      "source": [
        "We can see that there has been a rapid decline in the number of new recipes posted on food.com over the past decade. Let's see whether the decline has had an equal impact on vegetarian and non-vegetarian recipes."
      ],
      "metadata": {}
    },
    {
      "cell_type": "code",
      "source": [
        "df = recipes_and_ratings.groupby(['year']).agg(\n",
        "    total_cnt = ('id', 'count'),\n",
        "    vegetarian_cnt = ('vegetarian', 'sum'),\n",
        "    vegan_cnt = ('vegan', 'sum'),\n",
        ").reset_index()\n",
        "\n",
        "df['vegetarian_pct'] = df['vegetarian_cnt'] / df['total_cnt'] * 100\n",
        "df['vegan_pct'] = df['vegan_cnt'] / df['total_cnt'] * 100\n",
        "\n",
        "plt.figure(figsize=(12,6))\n",
        "\n",
        "ax = sns.lineplot(data=pd.melt(df[['year', 'vegetarian_pct', 'vegan_pct']], ['year']), x='year', y='value', palette=veg_meat[1:], hue='variable', linewidth=2.5)\n",
        "ax.set(ylim=(0, 100))\n",
        "ax.set_title('Percent of vegetarian recipes by year')\n",
        "ax"
      ],
      "outputs": [
        {
          "output_type": "execute_result",
          "execution_count": 59,
          "data": {
            "text/plain": [
              "<matplotlib.axes._subplots.AxesSubplot at 0x7fc313112710>"
            ]
          },
          "metadata": {}
        },
        {
          "output_type": "display_data",
          "data": {
            "text/plain": [
              "<Figure size 864x432 with 1 Axes>"
            ],
            "image/png": "[encoded data removed]"
          },
          "metadata": {
            "needs_background": "light"
          }
        }
      ],
      "execution_count": 59,
      "metadata": {
        "trusted": true
      }
    },
    {
      "cell_type": "markdown",
      "source": [
        "The vegetarian category has declined at the same rate as the non-vegetarian portion of food.com, and did even worse between 2014–2017."
      ],
      "metadata": {}
    },
    {
      "cell_type": "markdown",
      "source": [
        "### Ratings by year"
      ],
      "metadata": {}
    },
    {
      "cell_type": "code",
      "source": [
        "ratings_by_recipe = interactions_l0y.groupby(['recipe_id', 'year']).agg(\n",
        "    rating_cnt = ('rating', 'count'),\n",
        "    rating_avg = ('rating', 'mean'),\n",
        ").reset_index()\n",
        "ratings_by_recipe = ratings_by_recipe.merge(recipes_and_ratings[['id', 'vegetarian', 'vegan']], left_on='recipe_id', right_on='id')\n",
        "\n",
        "df = ratings_by_recipe.groupby(['year', 'vegetarian']).agg(\n",
        "    rating_cnt = ('rating_cnt', 'sum'),\n",
        "    rating_avg = ('rating_avg', 'mean'),\n",
        ").reset_index()\n",
        "\n",
        "plt.figure(figsize=(12,6))\n",
        "\n",
        "ax = sns.lineplot(data=df, x='year', y='rating_cnt', hue='vegetarian', linewidth=2.5)\n",
        "ax.set_title('Recipe ratings by year')\n",
        "ax"
      ],
      "outputs": [
        {
          "output_type": "execute_result",
          "execution_count": 60,
          "data": {
            "text/plain": [
              "<matplotlib.axes._subplots.AxesSubplot at 0x7fc313d497d0>"
            ]
          },
          "metadata": {}
        },
        {
          "output_type": "display_data",
          "data": {
            "text/plain": [
              "<Figure size 864x432 with 1 Axes>"
            ],
            "image/png": "[encoded data removed]"
          },
          "metadata": {
            "needs_background": "light"
          }
        }
      ],
      "execution_count": 60,
      "metadata": {
        "trusted": true
      }
    },
    {
      "cell_type": "markdown",
      "source": [
        "We can see that there has been a similar decline in the number of interactions (reviews) on the recipes.\n",
        "\n",
        "The decline started one year later, which could probably be explained by a lag between new recipe postings and ratings. That is, the spike in new recipe postings in 2008 would only convert into interactions in the following year.\n",
        "\nAgain, let's see whether the decline has had an equal impact on vegetarian and non-vegetarian recipes."
      ],
      "metadata": {}
    },
    {
      "cell_type": "code",
      "source": [
        "interactions_by_recipe_and_year = interactions_l0y.reset_index().groupby(['recipe_id', 'year']).agg(\n",
        "    rating_cnt = ('index', 'count'),\n",
        "    rating_avg = ('rating', 'mean'),\n",
        ").reset_index()\n",
        "\n",
        "interactions_and_recipes = interactions_by_recipe_and_year[['recipe_id', 'year', 'rating_cnt', 'rating_avg']].merge(recipes_and_ratings[['id', 'vegetarian', 'vegan']], left_on='recipe_id', right_on='id')\n",
        "\n",
        "interactions_and_recipes['vegetarian_rating_cnt'] = np.where(interactions_and_recipes['vegetarian'] == True, interactions_and_recipes['rating_cnt'], 0)\n",
        "interactions_and_recipes['vegan_rating_cnt'] = np.where(interactions_and_recipes['vegan'] == True, interactions_and_recipes['rating_cnt'], 0)\n",
        "\n",
        "df = interactions_and_recipes.groupby(['year']).agg(\n",
        "    total_cnt = ('rating_cnt', 'sum'),\n",
        "    vegetarian_cnt = ('vegetarian_rating_cnt', 'sum'),\n",
        "    vegan_cnt = ('vegan_rating_cnt', 'sum'),\n",
        ").reset_index()\n",
        "\n",
        "df['vegetarian_pct'] = df['vegetarian_cnt'] / df['total_cnt'] * 100\n",
        "df['vegan_pct'] = df['vegan_cnt'] / df['total_cnt'] * 100\n",
        "\n",
        "plt.figure(figsize=(12,6))\n",
        "\n",
        "ax = sns.lineplot(data=pd.melt(df[['year', 'vegetarian_pct', 'vegan_pct']], ['year']), x='year', y='value', palette=veg_meat[1:], hue='variable', linewidth=2.5)\n",
        "ax.set(ylim=(0, 100))\n",
        "ax.set_title('Percent of votes on vegetarian recipes by year')\n",
        "ax"
      ],
      "outputs": [
        {
          "output_type": "execute_result",
          "execution_count": 61,
          "data": {
            "text/plain": [
              "<matplotlib.axes._subplots.AxesSubplot at 0x7fc3154f5150>"
            ]
          },
          "metadata": {}
        },
        {
          "output_type": "display_data",
          "data": {
            "text/plain": [
              "<Figure size 864x432 with 1 Axes>"
            ],
            "image/png": "[encoded data removed]"
          },
          "metadata": {
            "needs_background": "light"
          }
        }
      ],
      "execution_count": 61,
      "metadata": {
        "trusted": true
      }
    },
    {
      "cell_type": "markdown",
      "source": [
        "The share of ratings posted on vegetarian and vegan recipes has remained flat through the 10-year period. This time, we don't even see a decline in the period between 2014 and 2017.\n",
        "\nThis may suggest that although the number of vegetarian contributors has declined at a faster rate than that of non-vegetarian authors, the reader composition remained roughly the same."
      ],
      "metadata": {}
    },
    {
      "cell_type": "code",
      "source": [
        "df = ratings_by_recipe.groupby(['year', 'vegetarian']).agg(\n",
        "    rating_avg = ('rating_avg', 'mean')\n",
        ").reset_index()\n",
        "\n",
        "plt.figure(figsize=(12,6))\n",
        "\n",
        "ax = sns.lineplot(data=df, x='year', y='rating_avg', hue='vegetarian', linewidth=2.5)\n",
        "ax.set(ylim=(0, 5))\n",
        "ax.set_title('Average recipe rating by year')\n",
        "ax"
      ],
      "outputs": [
        {
          "output_type": "execute_result",
          "execution_count": 62,
          "data": {
            "text/plain": [
              "<matplotlib.axes._subplots.AxesSubplot at 0x7fc3165abc50>"
            ]
          },
          "metadata": {}
        },
        {
          "output_type": "display_data",
          "data": {
            "text/plain": [
              "<Figure size 864x432 with 1 Axes>"
            ],
            "image/png": "[encoded data removed]"
          },
          "metadata": {
            "needs_background": "light"
          }
        }
      ],
      "execution_count": 62,
      "metadata": {
        "trusted": true
      }
    },
    {
      "cell_type": "markdown",
      "source": [
        "The average rating for vegetarian recipes was roughly the same until 2013, but has since grown to ~0.2 points above that of non-vegetarian recipes."
      ],
      "metadata": {}
    },
    {
      "cell_type": "markdown",
      "source": [
        "# Cohort analysis\n",
        "I will next conduct a cohort retention analysis to confirm that the number of vegetarian contributors has indeed declined at a faster rate than that of non-vegetarian authors.\n",
        "\nSome of the code below was taken from: http://www.gregreda.com/2015/08/23/cohort-analysis-with-python/"
      ],
      "metadata": {}
    },
    {
      "cell_type": "markdown",
      "source": [
        "### Add submission year column"
      ],
      "metadata": {}
    },
    {
      "cell_type": "code",
      "source": [
        "recipes_and_cohorts = recipes_and_ratings.copy()\n",
        "recipes_and_cohorts['submitted_year'] = recipes_and_cohorts['submitted'].apply(lambda x: x.strftime('%Y'))"
      ],
      "outputs": [],
      "execution_count": 63,
      "metadata": {
        "trusted": true
      }
    },
    {
      "cell_type": "markdown",
      "source": [
        "### Divide users into cohorts"
      ],
      "metadata": {}
    },
    {
      "cell_type": "code",
      "source": [
        "# add cohort column — the year of the user's first recipe submission\n",
        "recipes_and_cohorts.set_index('contributor_id', inplace=True)\n",
        "recipes_and_cohorts['contributor_cohort'] = recipes_and_cohorts.groupby(level=0)['submitted'].min().apply(lambda x: x.strftime('%Y'))\n",
        "recipes_and_cohorts.reset_index(inplace=True)\n",
        "recipes_and_cohorts.head()"
      ],
      "outputs": [
        {
          "output_type": "execute_result",
          "execution_count": 64,
          "data": {
            "text/plain": [
              "   contributor_id      id  minutes  submitted  n_steps  n_ingredients  year  \\\n",
              "0          985201  333281       40 2008-10-27       10              9  2008   \n",
              "1         1848091  453467       45 2011-04-11       12             11  2011   \n",
              "2           50969  306168       40 2008-05-30        6              9  2008   \n",
              "3           50969  306168       40 2008-05-30        6              9  2008   \n",
              "4           50969  306168       40 2008-05-30        6              9  2008   \n",
              "\n",
              "   rating_cnt  rating_avg  vegetarian  vegan submitted_year contributor_cohort  \n",
              "0           1         4.0       False  False           2008               2008  \n",
              "1           1         5.0       False  False           2011               2011  \n",
              "2           1         5.0       False  False           2008               2008  \n",
              "3           1         5.0       False  False           2008               2008  \n",
              "4           1         5.0       False  False           2008               2008  "
            ],
            "text/html": [
              "<div>\n",
              "<style scoped>\n",
              "    .dataframe tbody tr th:only-of-type {\n",
              "        vertical-align: middle;\n",
              "    }\n",
              "\n",
              "    .dataframe tbody tr th {\n",
              "        vertical-align: top;\n",
              "    }\n",
              "\n",
              "    .dataframe thead th {\n",
              "        text-align: right;\n",
              "    }\n",
              "</style>\n",
              "<table border=\"1\" class=\"dataframe\">\n",
              "  <thead>\n",
              "    <tr style=\"text-align: right;\">\n",
              "      <th></th>\n",
              "      <th>contributor_id</th>\n",
              "      <th>id</th>\n",
              "      <th>minutes</th>\n",
              "      <th>submitted</th>\n",
              "      <th>n_steps</th>\n",
              "      <th>n_ingredients</th>\n",
              "      <th>year</th>\n",
              "      <th>rating_cnt</th>\n",
              "      <th>rating_avg</th>\n",
              "      <th>vegetarian</th>\n",
              "      <th>vegan</th>\n",
              "      <th>submitted_year</th>\n",
              "      <th>contributor_cohort</th>\n",
              "    </tr>\n",
              "  </thead>\n",
              "  <tbody>\n",
              "    <tr>\n",
              "      <th>0</th>\n",
              "      <td>985201</td>\n",
              "      <td>333281</td>\n",
              "      <td>40</td>\n",
              "      <td>2008-10-27</td>\n",
              "      <td>10</td>\n",
              "      <td>9</td>\n",
              "      <td>2008</td>\n",
              "      <td>1</td>\n",
              "      <td>4.0</td>\n",
              "      <td>False</td>\n",
              "      <td>False</td>\n",
              "      <td>2008</td>\n",
              "      <td>2008</td>\n",
              "    </tr>\n",
              "    <tr>\n",
              "      <th>1</th>\n",
              "      <td>1848091</td>\n",
              "      <td>453467</td>\n",
              "      <td>45</td>\n",
              "      <td>2011-04-11</td>\n",
              "      <td>12</td>\n",
              "      <td>11</td>\n",
              "      <td>2011</td>\n",
              "      <td>1</td>\n",
              "      <td>5.0</td>\n",
              "      <td>False</td>\n",
              "      <td>False</td>\n",
              "      <td>2011</td>\n",
              "      <td>2011</td>\n",
              "    </tr>\n",
              "    <tr>\n",
              "      <th>2</th>\n",
              "      <td>50969</td>\n",
              "      <td>306168</td>\n",
              "      <td>40</td>\n",
              "      <td>2008-05-30</td>\n",
              "      <td>6</td>\n",
              "      <td>9</td>\n",
              "      <td>2008</td>\n",
              "      <td>1</td>\n",
              "      <td>5.0</td>\n",
              "      <td>False</td>\n",
              "      <td>False</td>\n",
              "      <td>2008</td>\n",
              "      <td>2008</td>\n",
              "    </tr>\n",
              "    <tr>\n",
              "      <th>3</th>\n",
              "      <td>50969</td>\n",
              "      <td>306168</td>\n",
              "      <td>40</td>\n",
              "      <td>2008-05-30</td>\n",
              "      <td>6</td>\n",
              "      <td>9</td>\n",
              "      <td>2008</td>\n",
              "      <td>1</td>\n",
              "      <td>5.0</td>\n",
              "      <td>False</td>\n",
              "      <td>False</td>\n",
              "      <td>2008</td>\n",
              "      <td>2008</td>\n",
              "    </tr>\n",
              "    <tr>\n",
              "      <th>4</th>\n",
              "      <td>50969</td>\n",
              "      <td>306168</td>\n",
              "      <td>40</td>\n",
              "      <td>2008-05-30</td>\n",
              "      <td>6</td>\n",
              "      <td>9</td>\n",
              "      <td>2008</td>\n",
              "      <td>1</td>\n",
              "      <td>5.0</td>\n",
              "      <td>False</td>\n",
              "      <td>False</td>\n",
              "      <td>2008</td>\n",
              "      <td>2008</td>\n",
              "    </tr>\n",
              "  </tbody>\n",
              "</table>\n",
              "</div>"
            ]
          },
          "metadata": {}
        }
      ],
      "execution_count": 64,
      "metadata": {
        "trusted": true
      }
    },
    {
      "cell_type": "code",
      "source": [
        "def add_cohort_periods(df):\n",
        "    \"\"\"\n",
        "    Creates a `cohort_period` column, which is the Nth period based on the contributor's first recipe.\n",
        "    \"\"\"\n",
        "    df['cohort_period'] = np.arange(len(df)) + 1\n",
        "    return df\n",
        "\n",
        "def group_into_cohorts(df):\n",
        "    \"\"\"\n",
        "    Aggregates contributor count, recipe count and cohort period by contributor cohort and year of submission.\n",
        "    \"\"\"\n",
        "    df = df.groupby(['contributor_cohort', 'submitted_year']).agg(\n",
        "        contributor_cnt = ('contributor_id', 'nunique'),\n",
        "        recipe_cnt = ('id', 'nunique'),\n",
        "    )\n",
        "    df = df.groupby('contributor_cohort').apply(add_cohort_periods)\n",
        "    return df\n",
        "\n",
        "# non-vegetarian cohorts\n",
        "cohorts_nonveg = group_into_cohorts(recipes_and_cohorts[recipes_and_cohorts['vegetarian'] == False])\n",
        "\n",
        "# vegetarian cohorts\n",
        "cohorts_veg = group_into_cohorts(recipes_and_cohorts[recipes_and_cohorts['vegetarian'] == True])\n",
        "cohorts_veg.head()"
      ],
      "outputs": [
        {
          "output_type": "execute_result",
          "execution_count": 74,
          "data": {
            "text/plain": [
              "                                   contributor_cnt  recipe_cnt  cohort_period\n",
              "contributor_cohort submitted_year                                            \n",
              "2008               2008                       1500        4265              1\n",
              "                   2009                        492        2690              2\n",
              "                   2010                        253        1218              3\n",
              "                   2011                        155         823              4\n",
              "                   2012                        121         514              5"
            ],
            "text/html": [
              "<div>\n",
              "<style scoped>\n",
              "    .dataframe tbody tr th:only-of-type {\n",
              "        vertical-align: middle;\n",
              "    }\n",
              "\n",
              "    .dataframe tbody tr th {\n",
              "        vertical-align: top;\n",
              "    }\n",
              "\n",
              "    .dataframe thead th {\n",
              "        text-align: right;\n",
              "    }\n",
              "</style>\n",
              "<table border=\"1\" class=\"dataframe\">\n",
              "  <thead>\n",
              "    <tr style=\"text-align: right;\">\n",
              "      <th></th>\n",
              "      <th></th>\n",
              "      <th>contributor_cnt</th>\n",
              "      <th>recipe_cnt</th>\n",
              "      <th>cohort_period</th>\n",
              "    </tr>\n",
              "    <tr>\n",
              "      <th>contributor_cohort</th>\n",
              "      <th>submitted_year</th>\n",
              "      <th></th>\n",
              "      <th></th>\n",
              "      <th></th>\n",
              "    </tr>\n",
              "  </thead>\n",
              "  <tbody>\n",
              "    <tr>\n",
              "      <th rowspan=\"5\" valign=\"top\">2008</th>\n",
              "      <th>2008</th>\n",
              "      <td>1500</td>\n",
              "      <td>4265</td>\n",
              "      <td>1</td>\n",
              "    </tr>\n",
              "    <tr>\n",
              "      <th>2009</th>\n",
              "      <td>492</td>\n",
              "      <td>2690</td>\n",
              "      <td>2</td>\n",
              "    </tr>\n",
              "    <tr>\n",
              "      <th>2010</th>\n",
              "      <td>253</td>\n",
              "      <td>1218</td>\n",
              "      <td>3</td>\n",
              "    </tr>\n",
              "    <tr>\n",
              "      <th>2011</th>\n",
              "      <td>155</td>\n",
              "      <td>823</td>\n",
              "      <td>4</td>\n",
              "    </tr>\n",
              "    <tr>\n",
              "      <th>2012</th>\n",
              "      <td>121</td>\n",
              "      <td>514</td>\n",
              "      <td>5</td>\n",
              "    </tr>\n",
              "  </tbody>\n",
              "</table>\n",
              "</div>"
            ]
          },
          "metadata": {}
        }
      ],
      "execution_count": 74,
      "metadata": {
        "trusted": true
      }
    },
    {
      "cell_type": "markdown",
      "source": [
        "### User retention by cohort group"
      ],
      "metadata": {}
    },
    {
      "cell_type": "code",
      "source": [
        "def calculate_cohort_sizes(df):\n",
        "    \"\"\"\n",
        "    Calculates cohort sizes.\n",
        "    \"\"\"\n",
        "    df.reset_index(inplace=True)\n",
        "    df.set_index(['contributor_cohort', 'cohort_period'], inplace=True)\n",
        "    return df['contributor_cnt'].groupby('contributor_cohort').first()\n",
        "\n",
        "# calculate cohort sizes\n",
        "cohort_sizes_nonveg = calculate_cohort_sizes(cohorts_nonveg)\n",
        "cohort_sizes_veg = calculate_cohort_sizes(cohorts_veg)\n",
        "cohort_sizes_veg.head()"
      ],
      "outputs": [
        {
          "output_type": "execute_result",
          "execution_count": 77,
          "data": {
            "text/plain": [
              "contributor_cohort\n",
              "2008    1500\n",
              "2009     632\n",
              "2010     298\n",
              "2011     157\n",
              "2012     116\n",
              "Name: contributor_cnt, dtype: int64"
            ]
          },
          "metadata": {}
        }
      ],
      "execution_count": 77,
      "metadata": {
        "trusted": true
      }
    },
    {
      "cell_type": "code",
      "source": [
        "def convert_cohort_counts_to_pct(df, cohort_sizes):\n",
        "    \"\"\"\n",
        "   Converts cohort period contributor counts to percentages.\n",
        "    \"\"\"\n",
        "    df = df.unstack(0).divide(cohort_sizes, axis=1)\n",
        "    df.reset_index(inplace=True)\n",
        "    return df\n",
        "\n",
        "# convert cohort period contributor counts to percentages\n",
        "contributor_retention_nonveg = convert_cohort_counts_to_pct(cohorts_nonveg['contributor_cnt'], cohort_sizes_nonveg)\n",
        "contributor_retention_veg = convert_cohort_counts_to_pct(cohorts_veg['contributor_cnt'], cohort_sizes_veg)\n",
        "contributor_retention_veg"
      ],
      "outputs": [
        {
          "output_type": "execute_result",
          "execution_count": 82,
          "data": {
            "text/plain": [
              "contributor_cohort  cohort_period      2008      2009      2010      2011  \\\n",
              "0                               1  1.000000  1.000000  1.000000  1.000000   \n",
              "1                               2  0.328000  0.177215  0.127517  0.152866   \n",
              "2                               3  0.168667  0.077532  0.060403  0.044586   \n",
              "3                               4  0.103333  0.041139  0.026846  0.019108   \n",
              "4                               5  0.080667  0.023734  0.006711  0.006369   \n",
              "5                               6  0.052000  0.004747  0.003356       NaN   \n",
              "6                               7  0.014000  0.003165       NaN       NaN   \n",
              "7                               8  0.002667       NaN       NaN       NaN   \n",
              "\n",
              "contributor_cohort      2012      2013  2014  2015  2016  2017  \n",
              "0                   1.000000  1.000000  1.00   1.0  1.00   1.0  \n",
              "1                   0.086207  0.028169  0.05   NaN  0.25   NaN  \n",
              "2                   0.025862  0.014085   NaN   NaN   NaN   NaN  \n",
              "3                   0.008621       NaN   NaN   NaN   NaN   NaN  \n",
              "4                        NaN       NaN   NaN   NaN   NaN   NaN  \n",
              "5                        NaN       NaN   NaN   NaN   NaN   NaN  \n",
              "6                        NaN       NaN   NaN   NaN   NaN   NaN  \n",
              "7                        NaN       NaN   NaN   NaN   NaN   NaN  "
            ],
            "text/html": [
              "<div>\n",
              "<style scoped>\n",
              "    .dataframe tbody tr th:only-of-type {\n",
              "        vertical-align: middle;\n",
              "    }\n",
              "\n",
              "    .dataframe tbody tr th {\n",
              "        vertical-align: top;\n",
              "    }\n",
              "\n",
              "    .dataframe thead th {\n",
              "        text-align: right;\n",
              "    }\n",
              "</style>\n",
              "<table border=\"1\" class=\"dataframe\">\n",
              "  <thead>\n",
              "    <tr style=\"text-align: right;\">\n",
              "      <th>contributor_cohort</th>\n",
              "      <th>cohort_period</th>\n",
              "      <th>2008</th>\n",
              "      <th>2009</th>\n",
              "      <th>2010</th>\n",
              "      <th>2011</th>\n",
              "      <th>2012</th>\n",
              "      <th>2013</th>\n",
              "      <th>2014</th>\n",
              "      <th>2015</th>\n",
              "      <th>2016</th>\n",
              "      <th>2017</th>\n",
              "    </tr>\n",
              "  </thead>\n",
              "  <tbody>\n",
              "    <tr>\n",
              "      <th>0</th>\n",
              "      <td>1</td>\n",
              "      <td>1.000000</td>\n",
              "      <td>1.000000</td>\n",
              "      <td>1.000000</td>\n",
              "      <td>1.000000</td>\n",
              "      <td>1.000000</td>\n",
              "      <td>1.000000</td>\n",
              "      <td>1.00</td>\n",
              "      <td>1.0</td>\n",
              "      <td>1.00</td>\n",
              "      <td>1.0</td>\n",
              "    </tr>\n",
              "    <tr>\n",
              "      <th>1</th>\n",
              "      <td>2</td>\n",
              "      <td>0.328000</td>\n",
              "      <td>0.177215</td>\n",
              "      <td>0.127517</td>\n",
              "      <td>0.152866</td>\n",
              "      <td>0.086207</td>\n",
              "      <td>0.028169</td>\n",
              "      <td>0.05</td>\n",
              "      <td>NaN</td>\n",
              "      <td>0.25</td>\n",
              "      <td>NaN</td>\n",
              "    </tr>\n",
              "    <tr>\n",
              "      <th>2</th>\n",
              "      <td>3</td>\n",
              "      <td>0.168667</td>\n",
              "      <td>0.077532</td>\n",
              "      <td>0.060403</td>\n",
              "      <td>0.044586</td>\n",
              "      <td>0.025862</td>\n",
              "      <td>0.014085</td>\n",
              "      <td>NaN</td>\n",
              "      <td>NaN</td>\n",
              "      <td>NaN</td>\n",
              "      <td>NaN</td>\n",
              "    </tr>\n",
              "    <tr>\n",
              "      <th>3</th>\n",
              "      <td>4</td>\n",
              "      <td>0.103333</td>\n",
              "      <td>0.041139</td>\n",
              "      <td>0.026846</td>\n",
              "      <td>0.019108</td>\n",
              "      <td>0.008621</td>\n",
              "      <td>NaN</td>\n",
              "      <td>NaN</td>\n",
              "      <td>NaN</td>\n",
              "      <td>NaN</td>\n",
              "      <td>NaN</td>\n",
              "    </tr>\n",
              "    <tr>\n",
              "      <th>4</th>\n",
              "      <td>5</td>\n",
              "      <td>0.080667</td>\n",
              "      <td>0.023734</td>\n",
              "      <td>0.006711</td>\n",
              "      <td>0.006369</td>\n",
              "      <td>NaN</td>\n",
              "      <td>NaN</td>\n",
              "      <td>NaN</td>\n",
              "      <td>NaN</td>\n",
              "      <td>NaN</td>\n",
              "      <td>NaN</td>\n",
              "    </tr>\n",
              "    <tr>\n",
              "      <th>5</th>\n",
              "      <td>6</td>\n",
              "      <td>0.052000</td>\n",
              "      <td>0.004747</td>\n",
              "      <td>0.003356</td>\n",
              "      <td>NaN</td>\n",
              "      <td>NaN</td>\n",
              "      <td>NaN</td>\n",
              "      <td>NaN</td>\n",
              "      <td>NaN</td>\n",
              "      <td>NaN</td>\n",
              "      <td>NaN</td>\n",
              "    </tr>\n",
              "    <tr>\n",
              "      <th>6</th>\n",
              "      <td>7</td>\n",
              "      <td>0.014000</td>\n",
              "      <td>0.003165</td>\n",
              "      <td>NaN</td>\n",
              "      <td>NaN</td>\n",
              "      <td>NaN</td>\n",
              "      <td>NaN</td>\n",
              "      <td>NaN</td>\n",
              "      <td>NaN</td>\n",
              "      <td>NaN</td>\n",
              "      <td>NaN</td>\n",
              "    </tr>\n",
              "    <tr>\n",
              "      <th>7</th>\n",
              "      <td>8</td>\n",
              "      <td>0.002667</td>\n",
              "      <td>NaN</td>\n",
              "      <td>NaN</td>\n",
              "      <td>NaN</td>\n",
              "      <td>NaN</td>\n",
              "      <td>NaN</td>\n",
              "      <td>NaN</td>\n",
              "      <td>NaN</td>\n",
              "      <td>NaN</td>\n",
              "      <td>NaN</td>\n",
              "    </tr>\n",
              "  </tbody>\n",
              "</table>\n",
              "</div>"
            ]
          },
          "metadata": {}
        }
      ],
      "execution_count": 82,
      "metadata": {
        "trusted": true
      }
    },
    {
      "cell_type": "code",
      "source": [
        "def plot_retention_curves(df, cohorts, title, position):\n",
        "    \"\"\"\n",
        "   Plots retention curves for cohorts.\n",
        "    \"\"\"\n",
        "    plot = sns.lineplot(\n",
        "        data=pd.melt(contributor_retention_nonveg[['cohort_period'] + cohorts], ['cohort_period']),\n",
        "        x='cohort_period',\n",
        "        y='value',\n",
        "        palette='rocket_r',\n",
        "        hue='contributor_cohort',\n",
        "        linewidth=2.5,\n",
        "        ax=ax[position])\n",
        "    plot.set(xlim=(0, 8))\n",
        "    plot.set(ylim=(0, 1))\n",
        "    plot.set(xlabel='Cohort period')\n",
        "    plot.set(ylabel='Active contributors')\n",
        "    plot.set_title('Contributor retention by cohort: ' + title)\n",
        "    return\n",
        "\n",
        "# plot contributor retention curves\n",
        "fig, ax = plt.subplots(1, 2, figsize=(12,6))\n",
        "\n",
        "cohorts_to_display = ['2008', '2009', '2010', '2011']\n",
        "\n",
        "plot_retention_curves(contributor_retention_nonveg, cohorts_to_display, 'Non-vegetarian', 0)\n",
        "plot_retention_curves(contributor_retention_veg, cohorts_to_display, 'Vegetarian', 1)\n",
        "\nfig.show()"
      ],
      "outputs": [
        {
          "output_type": "display_data",
          "data": {
            "text/plain": [
              "<Figure size 864x432 with 2 Axes>"
            ],
            "image/png": "[encoded data removed]"
          },
          "metadata": {
            "needs_background": "light"
          }
        }
      ],
      "execution_count": 88,
      "metadata": {
        "trusted": true
      }
    },
    {
      "cell_type": "markdown",
      "source": [
        "We can see that contributor retention at food.com has deteriorated significantly over the years.\n",
        "\nThe difference between the churn of vegetarian and non-vegetarian contributors appears very mild, however, suggesting that higher atrition rate is not the reason for the decline in the proportion of new vegetarian recipes on the site."
      ],
      "metadata": {}
    },
    {
      "cell_type": "markdown",
      "source": [
        "## Contributor acquisition\n",
        "The alternative explanation for the drop in the share of new vegetarian recipes is that we acquire non-vegetarian contributors at a faster rate that non-vegetarian authors."
      ],
      "metadata": {}
    },
    {
      "cell_type": "code",
      "source": [
        "# get first recipe by contributor\n",
        "df = recipes_and_cohorts.groupby('contributor_id').agg(\n",
        "    vegetarian = ('vegetarian', 'mean'),\n",
        "    contributor_cohort = ('contributor_cohort', 'min'),\n",
        ")\n",
        "# counting contributors with >50% of vegetarian contibutions as vegetarians\n",
        "df.reset_index(inplace=True)\n",
        "df = df.round(0)\n",
        "\n",
        "# get first recipe by contributor\n",
        "df = df.groupby(['contributor_cohort', 'vegetarian']).agg(\n",
        "    contributor_cnt = ('contributor_id', 'count'),\n",
        ")\n",
        "# counting contributors with >50% of vegetarian contibutions as vegetarians\n",
        "df.reset_index(inplace=True)\n",
        "df['vegetarian'] = df['vegetarian'].astype(bool)\n",
        "\n",
        "plt.figure(figsize=(12,6))\n",
        "\n",
        "ax = sns.lineplot(data=df, x='contributor_cohort', y='contributor_cnt', palette=veg_meat[:2], hue='vegetarian', linewidth=2.5)\n",
        "ax.set(xlabel='New contributors')\n",
        "ax.set(ylabel='Year')\n",
        "ax.set_title('New contributors by year')"
      ],
      "outputs": [
        {
          "output_type": "execute_result",
          "execution_count": 69,
          "data": {
            "text/plain": [
              "Text(0.5, 1.0, 'New contributors by year')"
            ]
          },
          "metadata": {}
        },
        {
          "output_type": "display_data",
          "data": {
            "text/plain": [
              "<Figure size 864x432 with 1 Axes>"
            ],
            "image/png": "[encoded data removed]"
          },
          "metadata": {
            "needs_background": "light"
          }
        }
      ],
      "execution_count": 69,
      "metadata": {
        "trusted": true
      }
    },
    {
      "cell_type": "markdown",
      "source": [
        "Let's try the same with a logarithmic yscale."
      ],
      "metadata": {}
    },
    {
      "cell_type": "code",
      "source": [
        "plt.figure(figsize=(12,6))\n",
        "\n",
        "ax = sns.lineplot(data=df, x='contributor_cohort', y='contributor_cnt', palette=veg_meat[:2], hue='vegetarian', linewidth=2.5)\n",
        "ax.set(yscale=\"log\")\n",
        "ax.set(xlabel='New contributors')\n",
        "ax.set(ylabel='Year')\n",
        "ax.set_title('New contributors by year')"
      ],
      "outputs": [
        {
          "output_type": "execute_result",
          "execution_count": 70,
          "data": {
            "text/plain": [
              "Text(0.5, 1.0, 'New contributors by year')"
            ]
          },
          "metadata": {}
        },
        {
          "output_type": "display_data",
          "data": {
            "text/plain": [
              "<Figure size 864x432 with 1 Axes>"
            ],
            "image/png": "[encoded data removed]"
          },
          "metadata": {
            "needs_background": "light"
          }
        }
      ],
      "execution_count": 70,
      "metadata": {
        "trusted": true
      }
    },
    {
      "cell_type": "markdown",
      "source": [
        "Indeed, we can see that from 2014 to 2017, the number of vegetarian contributors has dropped at a faster rate than that of non-vegetarian contributors."
      ],
      "metadata": {}
    },
    {
      "cell_type": "markdown",
      "source": [
        "## Conclusion\n",
        "**Is there a positive trend in the number of vegetarian recipes posted on food.com between 2008 and 2017?**\n",
        "\n",
        "There is no positive trand. Between 2008 and 2013, the number of new vegetarian recipes has fallen year-over-year at the same rate as the number of new non-vegetarian recipes. It then started to fall at an even faster rate than for non-vegetarian recipes between 2014 and 2017.\n",
        "\n",
        "**Is there a positive trend in the number of interactions with vegetarian recipes on Food.com between 2008 and 2017?**\n",
        "\n",
        "There is no positive trand. The share of reviews posted on vegetarian and non-vegetarian recipes hsa remained unchanged over the 10-year period.\n",
        "\n",
        "**Is there a difference in the ratings vegetarian recipes received compared to non-vegetarian recipes between 2008 and 2017?**\n",
        "\n",
        "Yes, there is a slight positive trend. Vegetarian recipes were rated the same between 2008 and 2013, but started to attract higher ratings from there on. As of 2018, vegetarian recipe average ratings are 0.2 points higher than those of non-vegetarian recipes. \n",
        "\n",
        "### Business implications\n",
        "We can conclude that the growing vegetarian trend has had no positive impact on food.com, and might have even had a negative impact on our contributor acqusition."
      ],
      "metadata": {}
    }
  ],
  "metadata": {
    "kernelspec": {
      "language": "python",
      "display_name": "Python 3",
      "name": "python3"
    },
    "language_info": {
      "pygments_lexer": "ipython3",
      "nbconvert_exporter": "python",
      "version": "3.6.4",
      "file_extension": ".py",
      "codemirror_mode": {
        "name": "ipython",
        "version": 3
      },
      "name": "python",
      "mimetype": "text/x-python"
    },
    "nteract": {
      "version": "0.8.4"
    }
  },
  "nbformat": 4,
  "nbformat_minor": 4
}